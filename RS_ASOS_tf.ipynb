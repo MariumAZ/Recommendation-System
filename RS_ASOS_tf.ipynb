{
  "nbformat": 4,
  "nbformat_minor": 0,
  "metadata": {
    "colab": {
      "name": "RS_ASOS_tf.ipynb",
      "provenance": [],
      "collapsed_sections": []
    },
    "kernelspec": {
      "name": "python3",
      "display_name": "Python 3"
    },
    "language_info": {
      "name": "python"
    },
    "accelerator": "GPU"
  },
  "cells": [
    {
      "cell_type": "markdown",
      "metadata": {
        "id": "K5rD9FhaaXJO"
      },
      "source": [
        "***Matrix Factorization***\n",
        "\n",
        "Steps :\n",
        "\n",
        "1/ Pick random numbers for each customer and each product \n",
        "\n",
        "2/ Find a score for each customer and product\n",
        "\n",
        "3/ Rank according to these scores \n",
        "\n",
        "4/ Tweak the customer and user vectors to get better rankings"
      ]
    },
    {
      "cell_type": "markdown",
      "metadata": {
        "id": "P2qnb_Owie5L"
      },
      "source": [
        "Libraries"
      ]
    },
    {
      "cell_type": "code",
      "metadata": {
        "id": "spqnjYLiXv8P"
      },
      "source": [
        "import numpy as np\n",
        "import pandas as pd\n",
        "import tensorflow as tf\n",
        "import os"
      ],
      "execution_count": null,
      "outputs": []
    },
    {
      "cell_type": "code",
      "metadata": {
        "id": "nBYxuadfiiTx"
      },
      "source": [
        "train = pd.read_parquet(\"https://raw.githubusercontent.com/ASOS/dsf2020/main/dsf_asos_train_with_alphanumeric_dummy_ids.parquet\")"
      ],
      "execution_count": null,
      "outputs": []
    },
    {
      "cell_type": "code",
      "metadata": {
        "colab": {
          "base_uri": "https://localhost:8080/"
        },
        "id": "kkm8yrlKisNm",
        "outputId": "d09abc1c-55b7-44c1-8add-4f898399f0ec"
      },
      "source": [
        "print(train.shape)\n",
        "print(train.head())"
      ],
      "execution_count": null,
      "outputs": [
        {
          "output_type": "stream",
          "text": [
            "(165042, 2)\n",
            "               dummyUserId  productId\n",
            "0  b'PIXcm7Ru5KmntCy0yA1K'   10524048\n",
            "1  b'd0RILFB1hUzNSINMY4Ow'    9137713\n",
            "2  b'Ebax7lyhnKRm4xeRlWW2'    5808602\n",
            "3  b'vtigDw2h2vxKt0sJpEeU'   10548272\n",
            "4  b'r4GfiEaUGxziyjX0PyU6'   10988173\n"
          ],
          "name": "stdout"
        }
      ]
    },
    {
      "cell_type": "code",
      "metadata": {
        "id": "xq9ouYi_io1V"
      },
      "source": [
        "valid = pd.read_parquet(\"https://raw.githubusercontent.com/ASOS/dsf2020/main/dsf_asos_valid_with_alphanumeric_dummy_ids.parquet\")"
      ],
      "execution_count": null,
      "outputs": []
    },
    {
      "cell_type": "code",
      "metadata": {
        "id": "T6ZCLTKQirX9"
      },
      "source": [
        "dummy_users = pd.read_csv(\"https://raw.githubusercontent.com/ASOS/dsf2020/main/dsf_asos_dummy_users_with_alphanumeric_dummy_ids.csv\", header=None).values.flatten().astype(str)"
      ],
      "execution_count": null,
      "outputs": []
    },
    {
      "cell_type": "code",
      "metadata": {
        "id": "ltsyc81PAjyc"
      },
      "source": [
        "products = pd.read_csv(\"https://raw.githubusercontent.com/ASOS/dsf2020/main/dsf_asos_productIds.csv\", header=None).values.flatten().astype(int)"
      ],
      "execution_count": null,
      "outputs": []
    },
    {
      "cell_type": "code",
      "metadata": {
        "colab": {
          "base_uri": "https://localhost:8080/"
        },
        "id": "50ldekRfjCwj",
        "outputId": "262476be-48b5-494a-b7b5-1f54b5e8a434"
      },
      "source": [
        "dummy_users"
      ],
      "execution_count": null,
      "outputs": [
        {
          "output_type": "execute_result",
          "data": {
            "text/plain": [
              "array(['pmfkU4BNZhmtLgJQwJ7x', 'UDRRwOlzlWVbu7H8YCCi',\n",
              "       'QHGAef0TI6dhn0wTogvW', ..., 'lcORJ5hemOZc1iGo9z7k',\n",
              "       '5CqDquDAszqJp27P7AL8', 'SSPNYxJMfuKhoe1dg24m'], dtype='<U20')"
            ]
          },
          "metadata": {},
          "execution_count": 7
        }
      ]
    },
    {
      "cell_type": "markdown",
      "metadata": {
        "id": "EV1QTw8f8232"
      },
      "source": [
        "Define The Recommender Model :"
      ]
    },
    {
      "cell_type": "code",
      "metadata": {
        "colab": {
          "base_uri": "https://localhost:8080/"
        },
        "id": "s3EnvMfa9Ae8",
        "outputId": "e740a744-83c7-4031-fb13-18c1508d13ea"
      },
      "source": [
        "print(dummy_users)\n",
        "print(len(dummy_users))"
      ],
      "execution_count": null,
      "outputs": [
        {
          "output_type": "stream",
          "text": [
            "['pmfkU4BNZhmtLgJQwJ7x' 'UDRRwOlzlWVbu7H8YCCi' 'QHGAef0TI6dhn0wTogvW' ...\n",
            " 'lcORJ5hemOZc1iGo9z7k' '5CqDquDAszqJp27P7AL8' 'SSPNYxJMfuKhoe1dg24m']\n",
            "43607\n"
          ],
          "name": "stdout"
        }
      ]
    },
    {
      "cell_type": "code",
      "metadata": {
        "id": "Stx1v6zX9h2I"
      },
      "source": [
        "len_users = len(set(dummy_users))"
      ],
      "execution_count": null,
      "outputs": []
    },
    {
      "cell_type": "code",
      "metadata": {
        "colab": {
          "base_uri": "https://localhost:8080/"
        },
        "id": "CEjWsb6h9ocx",
        "outputId": "95800762-153e-429c-dafe-7d830451a61d"
      },
      "source": [
        "len_users"
      ],
      "execution_count": null,
      "outputs": [
        {
          "output_type": "execute_result",
          "data": {
            "text/plain": [
              "43607"
            ]
          },
          "metadata": {},
          "execution_count": 10
        }
      ]
    },
    {
      "cell_type": "code",
      "metadata": {
        "colab": {
          "base_uri": "https://localhost:8080/"
        },
        "id": "t3MARLwCASxm",
        "outputId": "f3c80517-4ba0-49fc-c007-d048beb1b646"
      },
      "source": [
        "products"
      ],
      "execution_count": null,
      "outputs": [
        {
          "output_type": "execute_result",
          "data": {
            "text/plain": [
              "array([ 8650774,  9306139,  9961521, ..., 12058614, 12058615, 11927550])"
            ]
          },
          "metadata": {},
          "execution_count": 11
        }
      ]
    },
    {
      "cell_type": "code",
      "metadata": {
        "id": "fVwD7KRsjDwU"
      },
      "source": [
        "user_embedding = tf.keras.layers.Embedding(len(dummy_users), 6)"
      ],
      "execution_count": null,
      "outputs": []
    },
    {
      "cell_type": "code",
      "metadata": {
        "id": "94KON5nH9rd9"
      },
      "source": [
        "product_embedding = tf.keras.layers.Embedding(len(products), 6)"
      ],
      "execution_count": null,
      "outputs": []
    },
    {
      "cell_type": "code",
      "metadata": {
        "id": "EOn822voClc7"
      },
      "source": [
        ""
      ],
      "execution_count": null,
      "outputs": []
    },
    {
      "cell_type": "code",
      "metadata": {
        "colab": {
          "base_uri": "https://localhost:8080/"
        },
        "id": "X0FCTkhXBbe7",
        "outputId": "dafbb19a-a4ef-4e0d-9316-e8af36b738fc"
      },
      "source": [
        "#try example user \n",
        "user_ex = user_embedding(2)\n",
        "product_ex = product_embedding(10)\n",
        "#compute score ( dot product)\n",
        "tf.squeeze(tf.matmul(tf.expand_dims(product_ex, axis=0), tf.transpose(tf.expand_dims(user_ex, axis=0))))"
      ],
      "execution_count": null,
      "outputs": [
        {
          "output_type": "execute_result",
          "data": {
            "text/plain": [
              "<tf.Tensor: shape=(), dtype=float32, numpy=0.0020714889>"
            ]
          },
          "metadata": {},
          "execution_count": 14
        }
      ]
    },
    {
      "cell_type": "code",
      "metadata": {
        "colab": {
          "base_uri": "https://localhost:8080/"
        },
        "id": "8CZADp4kCBKi",
        "outputId": "f07c31bd-1229-4fe4-988c-6b3ba264c8d7"
      },
      "source": [
        "tf.tensordot(user_ex, product_ex, axes=[[0], [0]])"
      ],
      "execution_count": null,
      "outputs": [
        {
          "output_type": "execute_result",
          "data": {
            "text/plain": [
              "<tf.Tensor: shape=(), dtype=float32, numpy=0.0020714889>"
            ]
          },
          "metadata": {},
          "execution_count": 15
        }
      ]
    },
    {
      "cell_type": "markdown",
      "metadata": {
        "id": "jptZIDWnFbp2"
      },
      "source": [
        "https://www.edgeimpulse.com/blog/scale-your-tinyml-application-with-edge-impulse-and-azure-iot-edge"
      ]
    },
    {
      "cell_type": "code",
      "metadata": {
        "id": "AIKw5SsCb7jy"
      },
      "source": [
        "example_prod = tf.constant([1, 88, 9])"
      ],
      "execution_count": null,
      "outputs": []
    },
    {
      "cell_type": "code",
      "metadata": {
        "colab": {
          "base_uri": "https://localhost:8080/"
        },
        "id": "bqT2AiysEQvF",
        "outputId": "69d32637-ed77-4754-ae15-8a8064d6daf5"
      },
      "source": [
        " product_embedding(example_prod)"
      ],
      "execution_count": null,
      "outputs": [
        {
          "output_type": "execute_result",
          "data": {
            "text/plain": [
              "<tf.Tensor: shape=(3, 6), dtype=float32, numpy=\n",
              "array([[-0.03893924,  0.01756604, -0.00629457,  0.02782004, -0.03665216,\n",
              "        -0.02876104],\n",
              "       [ 0.00955944, -0.03944452, -0.03754163, -0.03430908,  0.01168757,\n",
              "         0.045934  ],\n",
              "       [-0.03682883,  0.04547347, -0.00124203,  0.02301201,  0.03769879,\n",
              "        -0.02672557]], dtype=float32)>"
            ]
          },
          "metadata": {},
          "execution_count": 17
        }
      ]
    },
    {
      "cell_type": "code",
      "metadata": {
        "colab": {
          "base_uri": "https://localhost:8080/"
        },
        "id": "6bVm07NJE3YK",
        "outputId": "a8f084f4-5230-4322-f6f7-a886e6e714f6"
      },
      "source": [
        "user_embedding(1)"
      ],
      "execution_count": null,
      "outputs": [
        {
          "output_type": "execute_result",
          "data": {
            "text/plain": [
              "<tf.Tensor: shape=(6,), dtype=float32, numpy=\n",
              "array([ 0.00180739, -0.00803481, -0.04191581, -0.02918632,  0.04782642,\n",
              "        0.04224632], dtype=float32)>"
            ]
          },
          "metadata": {},
          "execution_count": 18
        }
      ]
    },
    {
      "cell_type": "code",
      "metadata": {
        "colab": {
          "base_uri": "https://localhost:8080/"
        },
        "id": "0EagY2UlE8YV",
        "outputId": "b9383a86-3114-4c78-eff5-4d0e699b7576"
      },
      "source": [
        "product_embedding(example_prod)"
      ],
      "execution_count": null,
      "outputs": [
        {
          "output_type": "execute_result",
          "data": {
            "text/plain": [
              "<tf.Tensor: shape=(3, 6), dtype=float32, numpy=\n",
              "array([[-0.03893924,  0.01756604, -0.00629457,  0.02782004, -0.03665216,\n",
              "        -0.02876104],\n",
              "       [ 0.00955944, -0.03944452, -0.03754163, -0.03430908,  0.01168757,\n",
              "         0.045934  ],\n",
              "       [-0.03682883,  0.04547347, -0.00124203,  0.02301201,  0.03769879,\n",
              "        -0.02672557]], dtype=float32)>"
            ]
          },
          "metadata": {},
          "execution_count": 19
        }
      ]
    },
    {
      "cell_type": "code",
      "metadata": {
        "id": "iQxmSpaKEPmz",
        "colab": {
          "base_uri": "https://localhost:8080/"
        },
        "outputId": "0470a226-d627-4234-f278-4270a1b647ea"
      },
      "source": [
        "tf.tensordot(user_embedding(1), product_embedding(example_prod), axes=[[0], [1]])"
      ],
      "execution_count": null,
      "outputs": [
        {
          "output_type": "execute_result",
          "data": {
            "text/plain": [
              "<tf.Tensor: shape=(3,), dtype=float32, numpy=array([-0.00372763,  0.00540867, -0.00037757], dtype=float32)>"
            ]
          },
          "metadata": {},
          "execution_count": 20
        }
      ]
    },
    {
      "cell_type": "markdown",
      "metadata": {
        "id": "oz_Ass-blvaE"
      },
      "source": [
        "Problem : \n",
        "- products are not continuous numbers \n",
        "\n",
        "- dummy users are strings  \n",
        "\n",
        "Solution : \n",
        "set a lookup dictionary "
      ]
    },
    {
      "cell_type": "code",
      "metadata": {
        "colab": {
          "base_uri": "https://localhost:8080/"
        },
        "id": "BghfFNiykMOq",
        "outputId": "8236ed77-a6d6-464f-b1ea-b64e0953b01b"
      },
      "source": [
        "products"
      ],
      "execution_count": null,
      "outputs": [
        {
          "output_type": "execute_result",
          "data": {
            "text/plain": [
              "array([ 8650774,  9306139,  9961521, ..., 12058614, 12058615, 11927550])"
            ]
          },
          "metadata": {},
          "execution_count": 21
        }
      ]
    },
    {
      "cell_type": "code",
      "metadata": {
        "colab": {
          "base_uri": "https://localhost:8080/"
        },
        "id": "tl5Pp4rIkNMr",
        "outputId": "68721846-749b-4281-89de-a29868644e00"
      },
      "source": [
        "dummy_users"
      ],
      "execution_count": null,
      "outputs": [
        {
          "output_type": "execute_result",
          "data": {
            "text/plain": [
              "array(['pmfkU4BNZhmtLgJQwJ7x', 'UDRRwOlzlWVbu7H8YCCi',\n",
              "       'QHGAef0TI6dhn0wTogvW', ..., 'lcORJ5hemOZc1iGo9z7k',\n",
              "       '5CqDquDAszqJp27P7AL8', 'SSPNYxJMfuKhoe1dg24m'], dtype='<U20')"
            ]
          },
          "metadata": {},
          "execution_count": 22
        }
      ]
    },
    {
      "cell_type": "markdown",
      "metadata": {
        "id": "95jWWpnRlmWS"
      },
      "source": [
        "Tensorflow Hashtable :\n"
      ]
    },
    {
      "cell_type": "code",
      "metadata": {
        "colab": {
          "base_uri": "https://localhost:8080/"
        },
        "id": "m2Z0dG93nUHk",
        "outputId": "6bdc1c22-a6d7-4e36-8897-e764636c4b97"
      },
      "source": [
        "tf.range(15)"
      ],
      "execution_count": null,
      "outputs": [
        {
          "output_type": "execute_result",
          "data": {
            "text/plain": [
              "<tf.Tensor: shape=(15,), dtype=int32, numpy=\n",
              "array([ 0,  1,  2,  3,  4,  5,  6,  7,  8,  9, 10, 11, 12, 13, 14],\n",
              "      dtype=int32)>"
            ]
          },
          "metadata": {},
          "execution_count": 23
        }
      ]
    },
    {
      "cell_type": "code",
      "metadata": {
        "id": "WMhZ2QTZkSsA"
      },
      "source": [
        "#mapping each product id with an integer in the range (0, len(product))\n",
        "product_table =  tf.lookup.StaticHashTable(tf.lookup.KeyValueTensorInitializer(tf.constant(products, dtype=tf.int32), tf.range(len(products))),\n",
        "    default_value=-1)"
      ],
      "execution_count": null,
      "outputs": []
    },
    {
      "cell_type": "code",
      "metadata": {
        "colab": {
          "base_uri": "https://localhost:8080/"
        },
        "id": "-V3lZAc9nizP",
        "outputId": "047ef093-b494-4377-ac7b-113c9c2c22c5"
      },
      "source": [
        "product_table"
      ],
      "execution_count": null,
      "outputs": [
        {
          "output_type": "execute_result",
          "data": {
            "text/plain": [
              "<tensorflow.python.ops.lookup_ops.StaticHashTable at 0x7f46503b05d0>"
            ]
          },
          "metadata": {},
          "execution_count": 25
        }
      ]
    },
    {
      "cell_type": "code",
      "metadata": {
        "colab": {
          "base_uri": "https://localhost:8080/"
        },
        "id": "u98LIyh4pwKo",
        "outputId": "dd00cabe-a152-4790-84f5-26eb25ef1c23"
      },
      "source": [
        "product_table.lookup(tf.constant([[8650774, 11927550], [12058614,9961521 ]]))"
      ],
      "execution_count": null,
      "outputs": [
        {
          "output_type": "execute_result",
          "data": {
            "text/plain": [
              "<tf.Tensor: shape=(2, 2), dtype=int32, numpy=\n",
              "array([[    0, 29695],\n",
              "       [29693,     2]], dtype=int32)>"
            ]
          },
          "metadata": {},
          "execution_count": 26
        }
      ]
    },
    {
      "cell_type": "code",
      "metadata": {
        "colab": {
          "base_uri": "https://localhost:8080/"
        },
        "id": "TJEb6ArdBbpC",
        "outputId": "554d53eb-ce50-4995-ee20-840275d291bd"
      },
      "source": [
        "product_table.lookup(tf.constant([8650774]))"
      ],
      "execution_count": null,
      "outputs": [
        {
          "output_type": "execute_result",
          "data": {
            "text/plain": [
              "<tf.Tensor: shape=(1,), dtype=int32, numpy=array([0], dtype=int32)>"
            ]
          },
          "metadata": {},
          "execution_count": 27
        }
      ]
    },
    {
      "cell_type": "code",
      "metadata": {
        "id": "9W3zpwGdnlYZ"
      },
      "source": [
        "user_table = tf.lookup.StaticHashTable(tf.lookup.KeyValueTensorInitializer(tf.constant(dummy_users), tf.range(len(dummy_users))),\n",
        "    default_value=-1)"
      ],
      "execution_count": null,
      "outputs": []
    },
    {
      "cell_type": "code",
      "metadata": {
        "id": "flaOOlwp8ZnL",
        "colab": {
          "base_uri": "https://localhost:8080/"
        },
        "outputId": "20df29be-5817-469e-dc55-72b72147b25c"
      },
      "source": [
        "print(tf.range(5))\n",
        "print(range(5))\n"
      ],
      "execution_count": null,
      "outputs": [
        {
          "output_type": "stream",
          "text": [
            "tf.Tensor([0 1 2 3 4], shape=(5,), dtype=int32)\n",
            "range(0, 5)\n"
          ],
          "name": "stdout"
        }
      ]
    },
    {
      "cell_type": "code",
      "metadata": {
        "id": "hPj9VL2Bq9tv"
      },
      "source": [
        "class SimpleRecommender(tf.keras.Model):\n",
        "  def __init__(self, dummy_users, products, length_of_embedding):\n",
        "    super(SimpleRecommender, self).__init__()\n",
        "\n",
        "    self.products = tf.constant(products, dtype=tf.int32)\n",
        "    self.dummy_users = tf.constant(dummy_users,dtype=tf.string)\n",
        "\n",
        "    self.dummy_users_table = tf.lookup.StaticHashTable(tf.lookup.KeyValueTensorInitializer(self.dummy_users, range(len(self.dummy_users))),\n",
        "    default_value=-1)\n",
        "    self.products_table = tf.lookup.StaticHashTable(tf.lookup.KeyValueTensorInitializer(self.products, range(len(self.products))),\n",
        "    default_value=-1)\n",
        "\n",
        "    self.user_embedding =  tf.keras.layers.Embedding(len(self.dummy_users), length_of_embedding)\n",
        "    self.product_embedding = tf.keras.layers.Embedding(len(self.products), length_of_embedding)\n",
        "\n",
        "    self.dot = tf.keras.layers.Dot(axes=-1)\n",
        "\n",
        "  def call(self, inputs):\n",
        "    user = inputs[0]\n",
        "    products = inputs[1]\n",
        "\n",
        "    user_embedding_index = self.dummy_users_table.lookup(user)\n",
        "    product_embedding_index = self.products_table.lookup(products)\n",
        "\n",
        "    user_embedding_values = self.user_embedding(user_embedding_index)\n",
        "    product_embedding_values = self.product_embedding(product_embedding_index)\n",
        "\n",
        "    return tf.squeeze(self.dot([user_embedding_values, product_embedding_values]), axis=1)\n",
        "\n",
        "  @tf.function\n",
        "  def call_item_item(self, product):\n",
        "    \"\"\"\n",
        "    find item to item similarity \n",
        "    \"\"\"\n",
        "    product_x = self.products_table.lookup(product)\n",
        "    product_embed =  tf.expand_dims(self.product_embedding(product_x), axis=0)\n",
        "    print(product_embed)\n",
        "    all_embed = tf.expand_dims(self.product_embedding.embeddings, axis=0)\n",
        "    scores = self.dot([product_embed, all_embed])\n",
        "    scores = tf.reshape(scores, [-1])\n",
        "    top_scores, top_indices = tf.math.top_k(scores, k=100)\n",
        "    top_ids = tf.gather(self.products, top_indices)\n",
        "    return top_ids, top_scores\n",
        "\n",
        "    "
      ],
      "execution_count": null,
      "outputs": []
    },
    {
      "cell_type": "code",
      "metadata": {
        "colab": {
          "base_uri": "https://localhost:8080/",
          "height": 424
        },
        "id": "N_i1abNtg6T0",
        "outputId": "9ae08351-39f3-4075-e796-a56f181d4fc7"
      },
      "source": [
        "train"
      ],
      "execution_count": null,
      "outputs": [
        {
          "output_type": "execute_result",
          "data": {
            "text/html": [
              "<div>\n",
              "<style scoped>\n",
              "    .dataframe tbody tr th:only-of-type {\n",
              "        vertical-align: middle;\n",
              "    }\n",
              "\n",
              "    .dataframe tbody tr th {\n",
              "        vertical-align: top;\n",
              "    }\n",
              "\n",
              "    .dataframe thead th {\n",
              "        text-align: right;\n",
              "    }\n",
              "</style>\n",
              "<table border=\"1\" class=\"dataframe\">\n",
              "  <thead>\n",
              "    <tr style=\"text-align: right;\">\n",
              "      <th></th>\n",
              "      <th>dummyUserId</th>\n",
              "      <th>productId</th>\n",
              "    </tr>\n",
              "  </thead>\n",
              "  <tbody>\n",
              "    <tr>\n",
              "      <th>0</th>\n",
              "      <td>b'PIXcm7Ru5KmntCy0yA1K'</td>\n",
              "      <td>10524048</td>\n",
              "    </tr>\n",
              "    <tr>\n",
              "      <th>1</th>\n",
              "      <td>b'd0RILFB1hUzNSINMY4Ow'</td>\n",
              "      <td>9137713</td>\n",
              "    </tr>\n",
              "    <tr>\n",
              "      <th>2</th>\n",
              "      <td>b'Ebax7lyhnKRm4xeRlWW2'</td>\n",
              "      <td>5808602</td>\n",
              "    </tr>\n",
              "    <tr>\n",
              "      <th>3</th>\n",
              "      <td>b'vtigDw2h2vxKt0sJpEeU'</td>\n",
              "      <td>10548272</td>\n",
              "    </tr>\n",
              "    <tr>\n",
              "      <th>4</th>\n",
              "      <td>b'r4GfiEaUGxziyjX0PyU6'</td>\n",
              "      <td>10988173</td>\n",
              "    </tr>\n",
              "    <tr>\n",
              "      <th>...</th>\n",
              "      <td>...</td>\n",
              "      <td>...</td>\n",
              "    </tr>\n",
              "    <tr>\n",
              "      <th>165037</th>\n",
              "      <td>b'7Eom5Ancozj01ozGxAMK'</td>\n",
              "      <td>9071435</td>\n",
              "    </tr>\n",
              "    <tr>\n",
              "      <th>165038</th>\n",
              "      <td>b'zi9vZETHqSIZK0TM2nZc'</td>\n",
              "      <td>10413104</td>\n",
              "    </tr>\n",
              "    <tr>\n",
              "      <th>165039</th>\n",
              "      <td>b'fVCveec9P946asY5wqGm'</td>\n",
              "      <td>9859881</td>\n",
              "    </tr>\n",
              "    <tr>\n",
              "      <th>165040</th>\n",
              "      <td>b'VJtfpw602SZHh2qwarK4'</td>\n",
              "      <td>10809487</td>\n",
              "    </tr>\n",
              "    <tr>\n",
              "      <th>165041</th>\n",
              "      <td>b'D8BlXaKnJHXmxgwfSZzE'</td>\n",
              "      <td>8752491</td>\n",
              "    </tr>\n",
              "  </tbody>\n",
              "</table>\n",
              "<p>165042 rows × 2 columns</p>\n",
              "</div>"
            ],
            "text/plain": [
              "                    dummyUserId  productId\n",
              "0       b'PIXcm7Ru5KmntCy0yA1K'   10524048\n",
              "1       b'd0RILFB1hUzNSINMY4Ow'    9137713\n",
              "2       b'Ebax7lyhnKRm4xeRlWW2'    5808602\n",
              "3       b'vtigDw2h2vxKt0sJpEeU'   10548272\n",
              "4       b'r4GfiEaUGxziyjX0PyU6'   10988173\n",
              "...                         ...        ...\n",
              "165037  b'7Eom5Ancozj01ozGxAMK'    9071435\n",
              "165038  b'zi9vZETHqSIZK0TM2nZc'   10413104\n",
              "165039  b'fVCveec9P946asY5wqGm'    9859881\n",
              "165040  b'VJtfpw602SZHh2qwarK4'   10809487\n",
              "165041  b'D8BlXaKnJHXmxgwfSZzE'    8752491\n",
              "\n",
              "[165042 rows x 2 columns]"
            ]
          },
          "metadata": {},
          "execution_count": 31
        }
      ]
    },
    {
      "cell_type": "code",
      "metadata": {
        "id": "2OELwqTgKKoJ"
      },
      "source": [
        "sr1 = SimpleRecommender(dummy_users, products, 15)"
      ],
      "execution_count": null,
      "outputs": []
    },
    {
      "cell_type": "code",
      "metadata": {
        "colab": {
          "base_uri": "https://localhost:8080/"
        },
        "id": "ltEMSneov_-1",
        "outputId": "e968c145-fd49-4a00-8326-73bfaad413af"
      },
      "source": [
        "dummy_users"
      ],
      "execution_count": null,
      "outputs": [
        {
          "output_type": "execute_result",
          "data": {
            "text/plain": [
              "array(['pmfkU4BNZhmtLgJQwJ7x', 'UDRRwOlzlWVbu7H8YCCi',\n",
              "       'QHGAef0TI6dhn0wTogvW', ..., 'lcORJ5hemOZc1iGo9z7k',\n",
              "       '5CqDquDAszqJp27P7AL8', 'SSPNYxJMfuKhoe1dg24m'], dtype='<U20')"
            ]
          },
          "metadata": {},
          "execution_count": 33
        }
      ]
    },
    {
      "cell_type": "code",
      "metadata": {
        "colab": {
          "base_uri": "https://localhost:8080/"
        },
        "id": "Itre_xcje3DL",
        "outputId": "7d643ff6-9830-4755-f965-c3834661526a"
      },
      "source": [
        "products\n"
      ],
      "execution_count": null,
      "outputs": [
        {
          "output_type": "execute_result",
          "data": {
            "text/plain": [
              "array([ 8650774,  9306139,  9961521, ..., 12058614, 12058615, 11927550])"
            ]
          },
          "metadata": {},
          "execution_count": 34
        }
      ]
    },
    {
      "cell_type": "code",
      "metadata": {
        "id": "-SnN76nAKPc2",
        "colab": {
          "base_uri": "https://localhost:8080/"
        },
        "outputId": "48967c74-32c8-4c1e-a471-99dbc2b2126e"
      },
      "source": [
        "sr1([tf.constant([['pmfkU4BNZhmtLgJQwJ7x'], ['UDRRwOlzlWVbu7H8YCCi']]), tf.constant([[8650774, 11927550], [12058614,9961521 ]])])"
      ],
      "execution_count": null,
      "outputs": [
        {
          "output_type": "execute_result",
          "data": {
            "text/plain": [
              "<tf.Tensor: shape=(2, 2), dtype=float32, numpy=\n",
              "array([[ 0.0017606 , -0.00039608],\n",
              "       [ 0.00457848, -0.00505342]], dtype=float32)>"
            ]
          },
          "metadata": {},
          "execution_count": 35
        }
      ]
    },
    {
      "cell_type": "code",
      "metadata": {
        "colab": {
          "base_uri": "https://localhost:8080/"
        },
        "id": "2BnmsCB9iCch",
        "outputId": "e6ee5428-c05f-4dd9-eb80-5ac92af0e996"
      },
      "source": [
        "train[['dummyUserId']].values.shape"
      ],
      "execution_count": null,
      "outputs": [
        {
          "output_type": "execute_result",
          "data": {
            "text/plain": [
              "(165042, 1)"
            ]
          },
          "metadata": {},
          "execution_count": 36
        }
      ]
    },
    {
      "cell_type": "code",
      "metadata": {
        "colab": {
          "base_uri": "https://localhost:8080/"
        },
        "id": "CJ9z-IJWijGS",
        "outputId": "4ecb6e24-3a9c-4187-d67e-82a5b82e2705"
      },
      "source": [
        "train['dummyUserId'].values.shape"
      ],
      "execution_count": null,
      "outputs": [
        {
          "output_type": "execute_result",
          "data": {
            "text/plain": [
              "(165042,)"
            ]
          },
          "metadata": {},
          "execution_count": 37
        }
      ]
    },
    {
      "cell_type": "code",
      "metadata": {
        "id": "Z570dMyre-bV"
      },
      "source": [
        "dummy_user_tensor = tf.constant(train[['dummyUserId']].values, dtype=tf.string)\n",
        "product_tensor = tf.constant(train[['productId']].values, dtype=tf.int32)\n"
      ],
      "execution_count": null,
      "outputs": []
    },
    {
      "cell_type": "code",
      "metadata": {
        "colab": {
          "base_uri": "https://localhost:8080/"
        },
        "id": "6Nbm9yqMiPo3",
        "outputId": "a1645bca-bbfd-418b-87f9-caadf623887a"
      },
      "source": [
        "dummy_user_tensor"
      ],
      "execution_count": null,
      "outputs": [
        {
          "output_type": "execute_result",
          "data": {
            "text/plain": [
              "<tf.Tensor: shape=(165042, 1), dtype=string, numpy=\n",
              "array([[b'PIXcm7Ru5KmntCy0yA1K'],\n",
              "       [b'd0RILFB1hUzNSINMY4Ow'],\n",
              "       [b'Ebax7lyhnKRm4xeRlWW2'],\n",
              "       ...,\n",
              "       [b'fVCveec9P946asY5wqGm'],\n",
              "       [b'VJtfpw602SZHh2qwarK4'],\n",
              "       [b'D8BlXaKnJHXmxgwfSZzE']], dtype=object)>"
            ]
          },
          "metadata": {},
          "execution_count": 39
        }
      ]
    },
    {
      "cell_type": "markdown",
      "metadata": {
        "id": "9sgV4B5JitvD"
      },
      "source": [
        "**Create Dataset**"
      ]
    },
    {
      "cell_type": "code",
      "metadata": {
        "colab": {
          "base_uri": "https://localhost:8080/"
        },
        "id": "5EEiy-gfiWLg",
        "outputId": "ccded021-e306-46b9-e838-56ded4f4ab4f"
      },
      "source": [
        "dataset = tf.data.Dataset.from_tensor_slices((dummy_user_tensor, product_tensor))\n",
        "for x, b in dataset:\n",
        "  print(x)\n",
        "  print(b)\n",
        "  break"
      ],
      "execution_count": null,
      "outputs": [
        {
          "output_type": "stream",
          "text": [
            "tf.Tensor([b'PIXcm7Ru5KmntCy0yA1K'], shape=(1,), dtype=string)\n",
            "tf.Tensor([10524048], shape=(1,), dtype=int32)\n"
          ],
          "name": "stdout"
        }
      ]
    },
    {
      "cell_type": "code",
      "metadata": {
        "colab": {
          "base_uri": "https://localhost:8080/"
        },
        "id": "zgFcdl4IjL-4",
        "outputId": "8278540c-1d6c-4ae4-c0d8-b81903ca85ed"
      },
      "source": [
        "#search for the most wanted product :\n",
        "train['productId'].value_counts()"
      ],
      "execution_count": null,
      "outputs": [
        {
          "output_type": "execute_result",
          "data": {
            "text/plain": [
              "10308557    502\n",
              "10308818    379\n",
              "10402698    355\n",
              "9276055     341\n",
              "10309914    285\n",
              "           ... \n",
              "8517596       1\n",
              "8152130       1\n",
              "9531312       1\n",
              "11378606      1\n",
              "8984611       1\n",
              "Name: productId, Length: 29696, dtype: int64"
            ]
          },
          "metadata": {},
          "execution_count": 41
        }
      ]
    },
    {
      "cell_type": "code",
      "metadata": {
        "id": "zmJjeRA-k3Ch"
      },
      "source": [
        "#list of products that user didn't purshase \n",
        "\n",
        "random_negatives_index = tf.random.uniform((7,), minval=0, maxval=len(products), dtype=tf.int32)"
      ],
      "execution_count": null,
      "outputs": []
    },
    {
      "cell_type": "code",
      "metadata": {
        "colab": {
          "base_uri": "https://localhost:8080/"
        },
        "id": "Iccvy1Zh8cDf",
        "outputId": "ca25798e-c427-48f4-e2d6-449d5486c52d"
      },
      "source": [
        "tf.gather(products, random_negatives_index)"
      ],
      "execution_count": null,
      "outputs": [
        {
          "output_type": "execute_result",
          "data": {
            "text/plain": [
              "<tf.Tensor: shape=(7,), dtype=int64, numpy=\n",
              "array([10602338, 11702935, 11027444,  8548776,  9856218,  9554187,\n",
              "       11760109])>"
            ]
          },
          "metadata": {},
          "execution_count": 43
        }
      ]
    },
    {
      "cell_type": "code",
      "metadata": {
        "id": "jfWB3fjE-KA0"
      },
      "source": [
        "class Mapper():\n",
        "  def __init__(self, possible_products, num_negative_products):\n",
        "    self.num_possible_products = len(possible_products)\n",
        "    self.possible_poducts_tensor = tf.constant(possible_products, dtype=tf.int32)\n",
        "    self.num_negative_products = num_negative_products\n",
        "    #create a y tensor to hanle \n",
        "    self.y = tf.one_hot(0, self.num_negative_products +1)\n",
        "  def __call__(self, user, product):\n",
        "    random_negatives_index = tf.random.uniform((self.num_negative_products,), minval=0, maxval=self.num_possible_products, dtype=tf.int32)\n",
        "    negatives = tf.gather(self.possible_poducts_tensor, random_negatives_index)\n",
        "    candidates = tf.concat([product, negatives], axis=0)\n",
        "    return (user, candidates),  self.y\n"
      ],
      "execution_count": null,
      "outputs": []
    },
    {
      "cell_type": "code",
      "metadata": {
        "colab": {
          "base_uri": "https://localhost:8080/"
        },
        "id": "8oG0NotnLEsS",
        "outputId": "b49111cd-9c6e-4f82-e357-87820963b416"
      },
      "source": [
        "products"
      ],
      "execution_count": null,
      "outputs": [
        {
          "output_type": "execute_result",
          "data": {
            "text/plain": [
              "array([ 8650774,  9306139,  9961521, ..., 12058614, 12058615, 11927550])"
            ]
          },
          "metadata": {},
          "execution_count": 45
        }
      ]
    },
    {
      "cell_type": "code",
      "metadata": {
        "id": "bsF5yb7WJjCw"
      },
      "source": [
        "dataset = tf.data.Dataset.from_tensor_slices((dummy_user_tensor, product_tensor)).map(Mapper(products, 6))"
      ],
      "execution_count": null,
      "outputs": []
    },
    {
      "cell_type": "code",
      "metadata": {
        "colab": {
          "base_uri": "https://localhost:8080/"
        },
        "id": "x6PI_vcRJ2t1",
        "outputId": "76ecd4fb-02b6-49dd-a5c0-53a969874f5f"
      },
      "source": [
        "for x, y in dataset:\n",
        "  print(x)\n",
        "  print(y)\n",
        "  break"
      ],
      "execution_count": null,
      "outputs": [
        {
          "output_type": "stream",
          "text": [
            "(<tf.Tensor: shape=(1,), dtype=string, numpy=array([b'PIXcm7Ru5KmntCy0yA1K'], dtype=object)>, <tf.Tensor: shape=(7,), dtype=int32, numpy=\n",
            "array([10524048, 12261533, 11475281, 11620213,  9780546, 11905841,\n",
            "       11988847], dtype=int32)>)\n",
            "tf.Tensor([1. 0. 0. 0. 0. 0. 0.], shape=(7,), dtype=float32)\n"
          ],
          "name": "stdout"
        }
      ]
    },
    {
      "cell_type": "code",
      "metadata": {
        "id": "2mqNcpGdLo99"
      },
      "source": [
        "def get_dataset(df, products, num_negatives):\n",
        "  dummy_user_tensor = tf.constant(df[['dummyUserId']].values, dtype=tf.string)\n",
        "  product_tensor = tf.constant(df[['productId']].values, dtype=tf.int32)\n",
        "  dataset = tf.data.Dataset.from_tensor_slices((dummy_user_tensor, product_tensor)).map(Mapper(products, num_negatives))\n",
        "  dataset = dataset.batch(1024)\n",
        "  return dataset"
      ],
      "execution_count": null,
      "outputs": []
    },
    {
      "cell_type": "code",
      "metadata": {
        "colab": {
          "base_uri": "https://localhost:8080/"
        },
        "id": "B-Bz3_eyLQjN",
        "outputId": "feb92efa-3532-4671-dc51-bf791d397890"
      },
      "source": [
        "for x, y in get_dataset(train, products, 4):\n",
        "  print(x)\n",
        "  print(y)\n",
        "  break"
      ],
      "execution_count": null,
      "outputs": [
        {
          "output_type": "stream",
          "text": [
            "(<tf.Tensor: shape=(1024, 1), dtype=string, numpy=\n",
            "array([[b'PIXcm7Ru5KmntCy0yA1K'],\n",
            "       [b'd0RILFB1hUzNSINMY4Ow'],\n",
            "       [b'Ebax7lyhnKRm4xeRlWW2'],\n",
            "       ...,\n",
            "       [b'xuX9n8PHfSR0AP3UZ8ar'],\n",
            "       [b'iNnxsPFfOa9884fMjVPJ'],\n",
            "       [b'aD8Mn12im8lFPzXAY41P']], dtype=object)>, <tf.Tensor: shape=(1024, 5), dtype=int32, numpy=\n",
            "array([[10524048, 10067492, 12537830, 11626951,  8439664],\n",
            "       [ 9137713, 11395149,  9225924, 10202700, 11176029],\n",
            "       [ 5808602, 11423661, 10275196,  9978502, 10130877],\n",
            "       ...,\n",
            "       [11541336, 12624773, 11776802, 12756021, 11515855],\n",
            "       [ 7779232,  8564990, 10493549, 10489415, 12475384],\n",
            "       [ 4941259, 10211312, 12314045, 10239067, 10563207]], dtype=int32)>)\n",
            "tf.Tensor(\n",
            "[[1. 0. 0. 0. 0.]\n",
            " [1. 0. 0. 0. 0.]\n",
            " [1. 0. 0. 0. 0.]\n",
            " ...\n",
            " [1. 0. 0. 0. 0.]\n",
            " [1. 0. 0. 0. 0.]\n",
            " [1. 0. 0. 0. 0.]], shape=(1024, 5), dtype=float32)\n"
          ],
          "name": "stdout"
        }
      ]
    },
    {
      "cell_type": "markdown",
      "metadata": {
        "id": "29CD13gaQK6l"
      },
      "source": [
        "**Train A Model**"
      ]
    },
    {
      "cell_type": "markdown",
      "metadata": {
        "id": "d1FjoIkCQPjW"
      },
      "source": [
        "- compile a model\n",
        "- set loss and evaluation metric"
      ]
    },
    {
      "cell_type": "code",
      "metadata": {
        "colab": {
          "base_uri": "https://localhost:8080/"
        },
        "id": "09jSqMpacRh1",
        "outputId": "230d5aeb-0466-49c9-e565-b2419b29aa64"
      },
      "source": [
        "for x, y in get_dataset(train, products, 100):\n",
        "  print(x)\n",
        "  print(y)\n",
        "  break"
      ],
      "execution_count": null,
      "outputs": [
        {
          "output_type": "stream",
          "text": [
            "(<tf.Tensor: shape=(1024, 1), dtype=string, numpy=\n",
            "array([[b'PIXcm7Ru5KmntCy0yA1K'],\n",
            "       [b'd0RILFB1hUzNSINMY4Ow'],\n",
            "       [b'Ebax7lyhnKRm4xeRlWW2'],\n",
            "       ...,\n",
            "       [b'xuX9n8PHfSR0AP3UZ8ar'],\n",
            "       [b'iNnxsPFfOa9884fMjVPJ'],\n",
            "       [b'aD8Mn12im8lFPzXAY41P']], dtype=object)>, <tf.Tensor: shape=(1024, 101), dtype=int32, numpy=\n",
            "array([[10524048,  9267613, 12109701, ...,  8845079,  9982803, 11198969],\n",
            "       [ 9137713, 11592185, 10256214, ..., 11344398, 12113702, 11597778],\n",
            "       [ 5808602, 11060961, 10125748, ..., 10824946,  9067777, 13298085],\n",
            "       ...,\n",
            "       [11541336, 12401147, 10239276, ...,  8193592, 12543667, 10387469],\n",
            "       [ 7779232,  9790734,  8651980, ..., 13117754,  9806484, 10927861],\n",
            "       [ 4941259, 12654470, 10768032, ..., 12159378, 11455350, 10636200]],\n",
            "      dtype=int32)>)\n",
            "tf.Tensor(\n",
            "[[1. 0. 0. ... 0. 0. 0.]\n",
            " [1. 0. 0. ... 0. 0. 0.]\n",
            " [1. 0. 0. ... 0. 0. 0.]\n",
            " ...\n",
            " [1. 0. 0. ... 0. 0. 0.]\n",
            " [1. 0. 0. ... 0. 0. 0.]\n",
            " [1. 0. 0. ... 0. 0. 0.]], shape=(1024, 101), dtype=float32)\n"
          ],
          "name": "stdout"
        }
      ]
    },
    {
      "cell_type": "code",
      "metadata": {
        "colab": {
          "base_uri": "https://localhost:8080/"
        },
        "id": "prgW2DLZLYHB",
        "outputId": "9df62e44-ddf8-4ee1-c4b8-e16c5cc35d9c"
      },
      "source": [
        "model = SimpleRecommender(dummy_users, products, 15)\n",
        "#categorical crossentropy converts scores to probabilities\n",
        "model.compile(loss=tf.keras.losses.CategoricalCrossentropy(from_logits=True), optimizer=tf.keras.optimizers.SGD(100), metrics=tf.keras.metrics.CategoricalAccuracy())\n",
        "#to check wether our dataset is useful in the real world we pass in a validation dataset\n",
        "model.fit(get_dataset(train, products, 100), validation_data=get_dataset(valid, products, 100), epochs= 5)\n"
      ],
      "execution_count": null,
      "outputs": [
        {
          "output_type": "stream",
          "text": [
            "Epoch 1/5\n",
            "162/162 [==============================] - 20s 118ms/step - loss: 4.6151 - categorical_accuracy: 0.0138 - val_loss: 4.6151 - val_categorical_accuracy: 0.0182\n",
            "Epoch 2/5\n",
            "162/162 [==============================] - 19s 117ms/step - loss: 4.6119 - categorical_accuracy: 0.0841 - val_loss: 4.6147 - val_categorical_accuracy: 0.0460\n",
            "Epoch 3/5\n",
            "162/162 [==============================] - 19s 118ms/step - loss: 4.5975 - categorical_accuracy: 0.1914 - val_loss: 4.6064 - val_categorical_accuracy: 0.0714\n",
            "Epoch 4/5\n",
            "162/162 [==============================] - 19s 117ms/step - loss: 4.5263 - categorical_accuracy: 0.2437 - val_loss: 4.5614 - val_categorical_accuracy: 0.0941\n",
            "Epoch 5/5\n",
            "162/162 [==============================] - 20s 122ms/step - loss: 4.3133 - categorical_accuracy: 0.2466 - val_loss: 4.4265 - val_categorical_accuracy: 0.1079\n"
          ],
          "name": "stdout"
        },
        {
          "output_type": "execute_result",
          "data": {
            "text/plain": [
              "<keras.callbacks.History at 0x7f4669de6410>"
            ]
          },
          "metadata": {},
          "execution_count": 51
        }
      ]
    },
    {
      "cell_type": "code",
      "metadata": {
        "colab": {
          "base_uri": "https://localhost:8080/"
        },
        "id": "SZw5Kzdasgac",
        "outputId": "8ed70ce0-5b3b-44d0-9015-3137b8f20373"
      },
      "source": [
        "test_product = products[0]\n",
        "test_product"
      ],
      "execution_count": null,
      "outputs": [
        {
          "output_type": "execute_result",
          "data": {
            "text/plain": [
              "8650774"
            ]
          },
          "metadata": {},
          "execution_count": 52
        }
      ]
    },
    {
      "cell_type": "code",
      "metadata": {
        "colab": {
          "base_uri": "https://localhost:8080/"
        },
        "id": "N2C9743_brgE",
        "outputId": "74bc31b3-5994-40b7-e7c7-2de0121a8b25"
      },
      "source": [
        "#test product :\n",
        "print(\"Recs for item {}: {}\".format(test_product, model.call_item_item(tf.constant(test_product, dtype=tf.int32))))"
      ],
      "execution_count": null,
      "outputs": [
        {
          "output_type": "stream",
          "text": [
            "Tensor(\"ExpandDims:0\", shape=(1, 15), dtype=float32)\n",
            "Recs for item 8650774: (<tf.Tensor: shape=(100,), dtype=int32, numpy=\n",
            "array([ 8941836, 11541077, 11953072,  9109184, 10062595, 12050426,\n",
            "       11409811, 10357545, 10102320, 11374873, 10867650, 10390716,\n",
            "        9109088, 11311936, 11691428, 10487343,  9565144,  9071435,\n",
            "       10555920, 10273738,  8661992, 12746059, 12115410, 10131359,\n",
            "       11080858, 10371371, 10464977, 11100314, 10375474, 11832342,\n",
            "        8840743,  9407068, 10581397,  6775544,  9189046, 10234617,\n",
            "       10437093,  9921383, 10710521,  8768733, 10637116, 11462829,\n",
            "       11448828, 10104809, 10909750, 12201985,  8927246, 11198985,\n",
            "       11392806, 12155249, 11493983, 11638705, 10715306, 10357533,\n",
            "       12111280, 11903387, 10636823, 11054197, 11700318, 11777393,\n",
            "       10339012,  8469882,  7761008, 12235188, 12259464, 13000935,\n",
            "       11409896, 12657366, 11211459, 10877926, 11273515, 10260333,\n",
            "       11427852, 10424246,  9539647, 12420888, 11396817, 11076588,\n",
            "        9440709, 12738200, 10366394,  8368788, 10327204, 11617907,\n",
            "       12192218, 11643609, 11356044, 11986780, 12296240, 11181654,\n",
            "       10681708, 12610327, 10533452,  7425916, 10116453, 11950361,\n",
            "       10920223, 11613873, 12392089,  9920894], dtype=int32)>, <tf.Tensor: shape=(100,), dtype=float32, numpy=\n",
            "array([0.14261805, 0.13157564, 0.11824578, 0.10468929, 0.10380417,\n",
            "       0.10073099, 0.09600029, 0.08494097, 0.08269311, 0.08049642,\n",
            "       0.07560243, 0.07428404, 0.07335865, 0.06877934, 0.06788819,\n",
            "       0.06383277, 0.06361885, 0.06350378, 0.06345266, 0.06323031,\n",
            "       0.06214534, 0.06204277, 0.0614281 , 0.0609427 , 0.06093909,\n",
            "       0.05914947, 0.05699183, 0.05636102, 0.05535728, 0.05529445,\n",
            "       0.05499207, 0.05495355, 0.05377502, 0.0533765 , 0.05328472,\n",
            "       0.0526622 , 0.05261829, 0.05235315, 0.05204394, 0.05161659,\n",
            "       0.05145405, 0.05119336, 0.0510932 , 0.05099567, 0.05093786,\n",
            "       0.04951571, 0.04925372, 0.0476801 , 0.04756943, 0.04753542,\n",
            "       0.04752027, 0.04746302, 0.04743283, 0.04725359, 0.04702964,\n",
            "       0.04697179, 0.0468403 , 0.04664857, 0.04640293, 0.04627696,\n",
            "       0.04613001, 0.04571485, 0.04529747, 0.04523939, 0.04518043,\n",
            "       0.04511982, 0.04511574, 0.04505609, 0.04495585, 0.04492998,\n",
            "       0.04485088, 0.04464611, 0.04463637, 0.0445822 , 0.04447459,\n",
            "       0.04436627, 0.04412248, 0.04384373, 0.04343643, 0.04337877,\n",
            "       0.04306681, 0.04304524, 0.0430315 , 0.04291626, 0.0429143 ,\n",
            "       0.04285431, 0.04282894, 0.04277904, 0.04269143, 0.04266166,\n",
            "       0.04262393, 0.04256042, 0.04254198, 0.04248072, 0.04224763,\n",
            "       0.04216072, 0.04207863, 0.04201928, 0.04192416, 0.04175168],\n",
            "      dtype=float32)>)\n"
          ],
          "name": "stdout"
        }
      ]
    },
    {
      "cell_type": "markdown",
      "metadata": {
        "id": "IUQp9o6Q0H6J"
      },
      "source": [
        "Load Model"
      ]
    },
    {
      "cell_type": "code",
      "metadata": {
        "id": "i31-UQEZ3ysW"
      },
      "source": [
        "#the function call_item_item is saved as a graph in the protobuf file (saved_model.pb)"
      ],
      "execution_count": null,
      "outputs": []
    },
    {
      "cell_type": "code",
      "metadata": {
        "id": "4ddLgBIo0HWo"
      },
      "source": [
        "model_path = \"models/recommender/1\""
      ],
      "execution_count": null,
      "outputs": []
    },
    {
      "cell_type": "code",
      "metadata": {
        "id": "bH-Teo9lurmV",
        "colab": {
          "base_uri": "https://localhost:8080/"
        },
        "outputId": "c2f1e8ac-41ff-474e-f293-0bb3e7b0f7da"
      },
      "source": [
        "input_signature = tf.TensorSpec(shape=(), dtype=tf.int32)\n",
        "signatures = {\"call_item_item\": model.call_item_item.get_concrete_function(input_signature)}"
      ],
      "execution_count": null,
      "outputs": [
        {
          "output_type": "stream",
          "text": [
            "Tensor(\"ExpandDims:0\", shape=(1, 15), dtype=float32)\n"
          ],
          "name": "stdout"
        }
      ]
    },
    {
      "cell_type": "code",
      "metadata": {
        "colab": {
          "base_uri": "https://localhost:8080/"
        },
        "id": "SX53d7tu0G7N",
        "outputId": "fc5f5807-0962-4bfe-9aa6-95d672a780d6"
      },
      "source": [
        "tf.saved_model.save(model, model_path, signatures=signatures)"
      ],
      "execution_count": null,
      "outputs": [
        {
          "output_type": "stream",
          "text": [
            "Tensor(\"ExpandDims:0\", shape=(1, 15), dtype=float32)\n",
            "INFO:tensorflow:Assets written to: models/recommender/1/assets\n"
          ],
          "name": "stdout"
        }
      ]
    },
    {
      "cell_type": "code",
      "metadata": {
        "colab": {
          "base_uri": "https://localhost:8080/"
        },
        "id": "HoUT6W3F3QVR",
        "outputId": "4a51ea8a-b920-49c9-cbd8-e0a3102aff82"
      },
      "source": [
        "imported_model = tf.saved_model.load(model_path)\n",
        "list(imported_model.signatures.keys())"
      ],
      "execution_count": null,
      "outputs": [
        {
          "output_type": "execute_result",
          "data": {
            "text/plain": [
              "['call_item_item']"
            ]
          },
          "metadata": {},
          "execution_count": 58
        }
      ]
    },
    {
      "cell_type": "markdown",
      "metadata": {
        "id": "1Q1T6AGmEBhy"
      },
      "source": [
        ""
      ]
    },
    {
      "cell_type": "code",
      "metadata": {
        "colab": {
          "base_uri": "https://localhost:8080/"
        },
        "id": "oZapAILt4u3c",
        "outputId": "d4818a74-1af5-4790-b9b2-a44f33cdd876"
      },
      "source": [
        "products"
      ],
      "execution_count": null,
      "outputs": [
        {
          "output_type": "execute_result",
          "data": {
            "text/plain": [
              "array([ 8650774,  9306139,  9961521, ..., 12058614, 12058615, 11927550])"
            ]
          },
          "metadata": {},
          "execution_count": 59
        }
      ]
    },
    {
      "cell_type": "code",
      "metadata": {
        "colab": {
          "base_uri": "https://localhost:8080/"
        },
        "id": "bCBTIrDt5XlP",
        "outputId": "d765254c-28c1-4b31-f40d-f1187cc0ac40"
      },
      "source": [
        "result_tensor = imported_model.signatures['call_item_item'](tf.constant([8650]))\n",
        "result_tensor"
      ],
      "execution_count": null,
      "outputs": [
        {
          "output_type": "execute_result",
          "data": {
            "text/plain": [
              "{'output_0': <tf.Tensor: shape=(100,), dtype=int32, numpy=\n",
              " array([ 8650774,  9306139,  9961521, 13238328, 10485819, 13238336,\n",
              "        13238341, 13238349,  9175127, 11141217, 11141222, 11141223,\n",
              "        11141224, 11141226,  9568368,  8388728,  9568381,  9568388,\n",
              "         9830537,  9437342,  9961638, 12714153, 13107382, 11403450,\n",
              "         9044155, 13107389, 10748117, 10748127, 10748128, 10748131,\n",
              "        10748137, 10748138,  8782062,  8782064, 12058867, 10879220,\n",
              "        10223863, 10486008, 10879225, 10879227, 10879230, 10879231,\n",
              "        12321027,  8388869, 10879238, 10879241, 10354955, 10354958,\n",
              "        10354961, 10354965, 10354966, 10354971, 10354972, 10354973,\n",
              "         7340321, 10354977, 10354978, 11927847, 13369677,  8520014,\n",
              "        10223954, 13369684, 10223957, 10223960, 11403612, 11403613,\n",
              "        11272541, 11796832, 11796833, 11534690, 11272546, 11272553,\n",
              "        11403626,  8651167, 13107617, 11010469,  8651175, 11010474,\n",
              "         8651182, 11010484, 12976579, 11010502, 11010507, 13238734,\n",
              "        13238735, 13238736, 13238737, 13238740, 13238742, 13238744,\n",
              "        10224094, 10224097,  8782308,  8782315, 10224110,  8782320,\n",
              "        12714484, 12714485, 12714489, 12714491], dtype=int32)>,\n",
              " 'output_1': <tf.Tensor: shape=(100,), dtype=float32, numpy=\n",
              " array([0., 0., 0., 0., 0., 0., 0., 0., 0., 0., 0., 0., 0., 0., 0., 0., 0.,\n",
              "        0., 0., 0., 0., 0., 0., 0., 0., 0., 0., 0., 0., 0., 0., 0., 0., 0.,\n",
              "        0., 0., 0., 0., 0., 0., 0., 0., 0., 0., 0., 0., 0., 0., 0., 0., 0.,\n",
              "        0., 0., 0., 0., 0., 0., 0., 0., 0., 0., 0., 0., 0., 0., 0., 0., 0.,\n",
              "        0., 0., 0., 0., 0., 0., 0., 0., 0., 0., 0., 0., 0., 0., 0., 0., 0.,\n",
              "        0., 0., 0., 0., 0., 0., 0., 0., 0., 0., 0., 0., 0., 0., 0.],\n",
              "       dtype=float32)>}"
            ]
          },
          "metadata": {},
          "execution_count": 60
        }
      ]
    },
    {
      "cell_type": "code",
      "metadata": {
        "colab": {
          "base_uri": "https://localhost:8080/"
        },
        "id": "b6rIC26S4J3A",
        "outputId": "db940996-fb3b-4681-bce2-e8e9d118a470"
      },
      "source": [
        "!curl --header \"Content-Type: application/json\" --request POST --data '{\"signature_name\":\"call_item_item\",\"inputs\": {\"product\": [8650774] } }' http://localhost:8501/v1/models/recommender:predict\n"
      ],
      "execution_count": null,
      "outputs": [
        {
          "output_type": "stream",
          "text": [
            "curl: (7) Failed to connect to localhost port 8501: Connection refused\n"
          ],
          "name": "stdout"
        }
      ]
    },
    {
      "cell_type": "code",
      "metadata": {
        "colab": {
          "base_uri": "https://localhost:8080/"
        },
        "id": "ANWEU-Sn4ZSS",
        "outputId": "048ee1f0-641c-4676-aeca-4fcbc3a46a53"
      },
      "source": [
        "\n",
        "!curl http://localhost:8501/v1/models/recommender/metadata\n",
        "\n"
      ],
      "execution_count": null,
      "outputs": [
        {
          "output_type": "stream",
          "text": [
            "curl: (7) Failed to connect to localhost port 8501: Connection refused\n"
          ],
          "name": "stdout"
        }
      ]
    },
    {
      "cell_type": "code",
      "metadata": {
        "colab": {
          "base_uri": "https://localhost:8080/",
          "height": 206
        },
        "id": "zgSrd75_Alzy",
        "outputId": "9d2fd0c5-1421-45b7-f0e2-e19e2b144b36"
      },
      "source": [
        "valid.head()"
      ],
      "execution_count": null,
      "outputs": [
        {
          "output_type": "execute_result",
          "data": {
            "text/html": [
              "<div>\n",
              "<style scoped>\n",
              "    .dataframe tbody tr th:only-of-type {\n",
              "        vertical-align: middle;\n",
              "    }\n",
              "\n",
              "    .dataframe tbody tr th {\n",
              "        vertical-align: top;\n",
              "    }\n",
              "\n",
              "    .dataframe thead th {\n",
              "        text-align: right;\n",
              "    }\n",
              "</style>\n",
              "<table border=\"1\" class=\"dataframe\">\n",
              "  <thead>\n",
              "    <tr style=\"text-align: right;\">\n",
              "      <th></th>\n",
              "      <th>dummyUserId</th>\n",
              "      <th>productId</th>\n",
              "    </tr>\n",
              "  </thead>\n",
              "  <tbody>\n",
              "    <tr>\n",
              "      <th>0</th>\n",
              "      <td>b'I4Yc5Ztur3UNwY5SdvDh'</td>\n",
              "      <td>10093853</td>\n",
              "    </tr>\n",
              "    <tr>\n",
              "      <th>1</th>\n",
              "      <td>b'nhWgcxEVY7jQ3MvvNxWL'</td>\n",
              "      <td>12306408</td>\n",
              "    </tr>\n",
              "    <tr>\n",
              "      <th>2</th>\n",
              "      <td>b'3vriQXKwG095rvR1MSrz'</td>\n",
              "      <td>11858310</td>\n",
              "    </tr>\n",
              "    <tr>\n",
              "      <th>3</th>\n",
              "      <td>b'MA8KmOxkGd1JQ42GXDGO'</td>\n",
              "      <td>10072124</td>\n",
              "    </tr>\n",
              "    <tr>\n",
              "      <th>4</th>\n",
              "      <td>b'vax7VgJnswdiC8iHZSCi'</td>\n",
              "      <td>10596405</td>\n",
              "    </tr>\n",
              "  </tbody>\n",
              "</table>\n",
              "</div>"
            ],
            "text/plain": [
              "               dummyUserId  productId\n",
              "0  b'I4Yc5Ztur3UNwY5SdvDh'   10093853\n",
              "1  b'nhWgcxEVY7jQ3MvvNxWL'   12306408\n",
              "2  b'3vriQXKwG095rvR1MSrz'   11858310\n",
              "3  b'MA8KmOxkGd1JQ42GXDGO'   10072124\n",
              "4  b'vax7VgJnswdiC8iHZSCi'   10596405"
            ]
          },
          "metadata": {},
          "execution_count": 63
        }
      ]
    },
    {
      "cell_type": "code",
      "metadata": {
        "colab": {
          "base_uri": "https://localhost:8080/"
        },
        "id": "vafKDDXGE2ei",
        "outputId": "ef38da07-820f-4c83-a8a6-c2791e4c57d5"
      },
      "source": [
        "!unzip models.zip"
      ],
      "execution_count": null,
      "outputs": [
        {
          "output_type": "stream",
          "text": [
            "unzip:  cannot find or open models.zip, models.zip.zip or models.zip.ZIP.\n"
          ],
          "name": "stdout"
        }
      ]
    },
    {
      "cell_type": "code",
      "metadata": {
        "colab": {
          "base_uri": "https://localhost:8080/"
        },
        "id": "PoZabArHE6YW",
        "outputId": "9f78e74d-c7ba-4a61-9461-fd9722c029cd"
      },
      "source": [
        "imported_model = tf.saved_model.load(model_path)\n",
        "list(imported_model.signatures.keys())"
      ],
      "execution_count": null,
      "outputs": [
        {
          "output_type": "execute_result",
          "data": {
            "text/plain": [
              "['call_item_item']"
            ]
          },
          "metadata": {},
          "execution_count": 65
        }
      ]
    },
    {
      "cell_type": "code",
      "metadata": {
        "colab": {
          "base_uri": "https://localhost:8080/"
        },
        "id": "FmD7aJdhFG8N",
        "outputId": "83f77094-b0cd-4d2f-a38a-b9964e2edc14"
      },
      "source": [
        "result_tensor = imported_model.signatures['call_item_item'](tf.constant([8650774]))\n",
        "result_tensor"
      ],
      "execution_count": null,
      "outputs": [
        {
          "output_type": "execute_result",
          "data": {
            "text/plain": [
              "{'output_0': <tf.Tensor: shape=(100,), dtype=int32, numpy=\n",
              " array([ 8941836, 11541077, 11953072,  9109184, 10062595, 12050426,\n",
              "        11409811, 10357545, 10102320, 11374873, 10867650, 10390716,\n",
              "         9109088, 11311936, 11691428, 10487343,  9565144,  9071435,\n",
              "        10555920, 10273738,  8661992, 12746059, 12115410, 10131359,\n",
              "        11080858, 10371371, 10464977, 11100314, 10375474, 11832342,\n",
              "         8840743,  9407068, 10581397,  6775544,  9189046, 10234617,\n",
              "        10437093,  9921383, 10710521,  8768733, 10637116, 11462829,\n",
              "        11448828, 10104809, 10909750, 12201985,  8927246, 11198985,\n",
              "        11392806, 12155249, 11493983, 11638705, 10715306, 10357533,\n",
              "        12111280, 11903387, 10636823, 11054197, 11700318, 11777393,\n",
              "        10339012,  8469882,  7761008, 12235188, 12259464, 13000935,\n",
              "        11409896, 12657366, 11211459, 10877926, 11273515, 10260333,\n",
              "        11427852, 10424246,  9539647, 12420888, 11396817, 11076588,\n",
              "         9440709, 12738200, 10366394,  8368788, 10327204, 11617907,\n",
              "        12192218, 11643609, 11356044, 11986780, 12296240, 11181654,\n",
              "        10681708, 12610327, 10533452,  7425916, 10116453, 11950361,\n",
              "        10920223, 11613873, 12392089,  9920894], dtype=int32)>,\n",
              " 'output_1': <tf.Tensor: shape=(100,), dtype=float32, numpy=\n",
              " array([0.14261805, 0.13157564, 0.11824578, 0.10468929, 0.10380417,\n",
              "        0.10073099, 0.09600029, 0.08494097, 0.08269311, 0.08049642,\n",
              "        0.07560243, 0.07428404, 0.07335865, 0.06877934, 0.06788819,\n",
              "        0.06383277, 0.06361885, 0.06350378, 0.06345266, 0.06323031,\n",
              "        0.06214534, 0.06204277, 0.0614281 , 0.0609427 , 0.06093909,\n",
              "        0.05914947, 0.05699183, 0.05636102, 0.05535728, 0.05529445,\n",
              "        0.05499207, 0.05495355, 0.05377502, 0.0533765 , 0.05328472,\n",
              "        0.0526622 , 0.05261829, 0.05235315, 0.05204394, 0.05161659,\n",
              "        0.05145405, 0.05119336, 0.0510932 , 0.05099567, 0.05093786,\n",
              "        0.04951571, 0.04925372, 0.0476801 , 0.04756943, 0.04753542,\n",
              "        0.04752027, 0.04746302, 0.04743283, 0.04725359, 0.04702964,\n",
              "        0.04697179, 0.0468403 , 0.04664857, 0.04640293, 0.04627696,\n",
              "        0.04613001, 0.04571485, 0.04529747, 0.04523939, 0.04518043,\n",
              "        0.04511982, 0.04511574, 0.04505609, 0.04495585, 0.04492998,\n",
              "        0.04485088, 0.04464611, 0.04463637, 0.0445822 , 0.04447459,\n",
              "        0.04436627, 0.04412248, 0.04384373, 0.04343643, 0.04337877,\n",
              "        0.04306681, 0.04304524, 0.0430315 , 0.04291626, 0.0429143 ,\n",
              "        0.04285431, 0.04282894, 0.04277904, 0.04269143, 0.04266166,\n",
              "        0.04262393, 0.04256042, 0.04254198, 0.04248072, 0.04224763,\n",
              "        0.04216072, 0.04207863, 0.04201928, 0.04192416, 0.04175168],\n",
              "       dtype=float32)>}"
            ]
          },
          "metadata": {},
          "execution_count": 66
        }
      ]
    },
    {
      "cell_type": "code",
      "metadata": {
        "colab": {
          "base_uri": "https://localhost:8080/"
        },
        "id": "Qxf7w7PbFToD",
        "outputId": "052c4ed0-11da-4d92-bec3-100de6ae2db3"
      },
      "source": [
        "imported_model.signatures.items()"
      ],
      "execution_count": null,
      "outputs": [
        {
          "output_type": "execute_result",
          "data": {
            "text/plain": [
              "ItemsView(_SignatureMap({'call_item_item': <ConcreteFunction signature_wrapper(*, product) at 0x7F4616FE7810>}))"
            ]
          },
          "metadata": {},
          "execution_count": 67
        }
      ]
    },
    {
      "cell_type": "code",
      "metadata": {
        "colab": {
          "base_uri": "https://localhost:8080/"
        },
        "id": "_x4ZhAdOFbkS",
        "outputId": "4f3fa550-f31d-4fac-8788-887530742a0d"
      },
      "source": [
        "result_tensor = imported_model.signatures['call_item_item'](tf.constant([10308557]))\n",
        "result_tensor"
      ],
      "execution_count": null,
      "outputs": [
        {
          "output_type": "execute_result",
          "data": {
            "text/plain": [
              "{'output_0': <tf.Tensor: shape=(100,), dtype=int32, numpy=\n",
              " array([10308557, 10308818, 10309914, 11060961, 10402703, 10565130,\n",
              "         5801178, 10308540,  7039647, 11344538,  9655345, 10309920,\n",
              "         9968963,  4275772, 10735521, 10352144, 11251463,  7098445,\n",
              "         7098451, 10309915, 10352147, 10309782,  9968967,  9775636,\n",
              "        10563199,  8064082,  9586825, 10637119,  8745086, 10623500,\n",
              "         7413512, 10854998, 10635879, 10718009, 10366082, 11378268,\n",
              "         7134751, 10794958,  5373264, 11351422,  9099410,  9875244,\n",
              "        11801850, 11152568,  8886884, 10366062,  9229342, 10309924,\n",
              "        12030039,  9225940, 10606090,  5808602,  3921514, 10606080,\n",
              "         9690295,  8745098, 13112623,  6429322,  9528209,  5580989,\n",
              "        10988173,  9491423, 12895283, 10564625, 11221174, 11211993,\n",
              "         7289381, 11433304,  8084941, 12482766, 10353402,  6848491,\n",
              "         9528191,  7777858, 12286648, 10716895,  9453604, 11141217,\n",
              "        10636469,  9819136,  9637845, 10581393, 10762456, 11439705,\n",
              "         9276051, 10353428, 11402392,  8745089,  8651681, 11376262,\n",
              "        10140047, 10602783,  6744223, 11171026,  9509916, 10635862,\n",
              "         8469705,  8904051, 10563207,  9904777], dtype=int32)>,\n",
              " 'output_1': <tf.Tensor: shape=(100,), dtype=float32, numpy=\n",
              " array([69.37604 , 56.26584 , 46.567245, 34.18364 , 32.99037 , 32.39723 ,\n",
              "        31.797668, 30.95309 , 29.036259, 28.43221 , 28.254381, 27.656246,\n",
              "        27.147198, 27.094728, 27.055967, 27.018887, 26.882183, 26.825977,\n",
              "        26.812948, 25.869867, 25.6777  , 25.122301, 25.059774, 25.04865 ,\n",
              "        24.603867, 24.414438, 24.246973, 24.235048, 23.852905, 23.632195,\n",
              "        23.587215, 23.500034, 23.33144 , 23.314367, 23.239145, 22.754366,\n",
              "        22.75275 , 22.74847 , 22.42772 , 22.402887, 22.203426, 21.92382 ,\n",
              "        21.487888, 21.404753, 21.370651, 21.35459 , 20.958527, 20.761389,\n",
              "        20.446308, 20.41265 , 20.350807, 20.339443, 20.313745, 20.311867,\n",
              "        20.293793, 20.113157, 20.092028, 19.963655, 19.847607, 19.80084 ,\n",
              "        19.568602, 19.430397, 19.28127 , 19.259968, 19.199116, 19.160355,\n",
              "        19.108335, 19.023928, 18.893227, 18.803583, 18.777443, 18.586063,\n",
              "        18.278812, 18.243265, 18.09332 , 18.083754, 18.070723, 17.826817,\n",
              "        17.619808, 17.544691, 17.475645, 17.431087, 17.23913 , 17.217743,\n",
              "        17.145746, 17.080013, 16.856226, 16.841623, 16.794083, 16.788174,\n",
              "        16.662722, 16.60947 , 16.556658, 16.532808, 16.39458 , 16.351429,\n",
              "        16.335482, 16.241673, 16.220537, 16.127253], dtype=float32)>}"
            ]
          },
          "metadata": {},
          "execution_count": 88
        }
      ]
    },
    {
      "cell_type": "code",
      "metadata": {
        "id": "vvgOhiHOHi0Q",
        "colab": {
          "base_uri": "https://localhost:8080/"
        },
        "outputId": "d1b805ad-667b-41dd-9f16-4d3fdc8e3f33"
      },
      "source": [
        "len(products)"
      ],
      "execution_count": null,
      "outputs": [
        {
          "output_type": "execute_result",
          "data": {
            "text/plain": [
              "29696"
            ]
          },
          "metadata": {},
          "execution_count": 69
        }
      ]
    },
    {
      "cell_type": "code",
      "metadata": {
        "id": "-17gC__vtcwZ"
      },
      "source": [
        "result_tensor = imported_model.signatures['call_item_item'](tf.constant([10329732]))"
      ],
      "execution_count": null,
      "outputs": []
    },
    {
      "cell_type": "code",
      "metadata": {
        "colab": {
          "base_uri": "https://localhost:8080/"
        },
        "id": "eBvfJWC8udS9",
        "outputId": "4e53b48b-fbc2-4b9f-d7a7-9320673da082"
      },
      "source": [
        "result_tensor"
      ],
      "execution_count": null,
      "outputs": [
        {
          "output_type": "execute_result",
          "data": {
            "text/plain": [
              "{'output_0': <tf.Tensor: shape=(100,), dtype=int32, numpy=\n",
              " array([ 8650774,  9306139,  9961521, 13238328, 10485819, 13238336,\n",
              "        13238341, 13238349,  9175127, 11141217, 11141222, 11141223,\n",
              "        11141224, 11141226,  9568368,  8388728,  9568381,  9568388,\n",
              "         9830537,  9437342,  9961638, 12714153, 13107382, 11403450,\n",
              "         9044155, 13107389, 10748117, 10748127, 10748128, 10748131,\n",
              "        10748137, 10748138,  8782062,  8782064, 12058867, 10879220,\n",
              "        10223863, 10486008, 10879225, 10879227, 10879230, 10879231,\n",
              "        12321027,  8388869, 10879238, 10879241, 10354955, 10354958,\n",
              "        10354961, 10354965, 10354966, 10354971, 10354972, 10354973,\n",
              "         7340321, 10354977, 10354978, 11927847, 13369677,  8520014,\n",
              "        10223954, 13369684, 10223957, 10223960, 11403612, 11403613,\n",
              "        11272541, 11796832, 11796833, 11534690, 11272546, 11272553,\n",
              "        11403626,  8651167, 13107617, 11010469,  8651175, 11010474,\n",
              "         8651182, 11010484, 12976579, 11010502, 11010507, 13238734,\n",
              "        13238735, 13238736, 13238737, 13238740, 13238742, 13238744,\n",
              "        10224094, 10224097,  8782308,  8782315, 10224110,  8782320,\n",
              "        12714484, 12714485, 12714489, 12714491], dtype=int32)>,\n",
              " 'output_1': <tf.Tensor: shape=(100,), dtype=float32, numpy=\n",
              " array([0., 0., 0., 0., 0., 0., 0., 0., 0., 0., 0., 0., 0., 0., 0., 0., 0.,\n",
              "        0., 0., 0., 0., 0., 0., 0., 0., 0., 0., 0., 0., 0., 0., 0., 0., 0.,\n",
              "        0., 0., 0., 0., 0., 0., 0., 0., 0., 0., 0., 0., 0., 0., 0., 0., 0.,\n",
              "        0., 0., 0., 0., 0., 0., 0., 0., 0., 0., 0., 0., 0., 0., 0., 0., 0.,\n",
              "        0., 0., 0., 0., 0., 0., 0., 0., 0., 0., 0., 0., 0., 0., 0., 0., 0.,\n",
              "        0., 0., 0., 0., 0., 0., 0., 0., 0., 0., 0., 0., 0., 0., 0.],\n",
              "       dtype=float32)>}"
            ]
          },
          "metadata": {},
          "execution_count": 80
        }
      ]
    },
    {
      "cell_type": "code",
      "metadata": {
        "colab": {
          "base_uri": "https://localhost:8080/",
          "height": 961
        },
        "id": "xxQ8h4ElsfHM",
        "outputId": "70bb4ec6-9498-4941-e6d2-1919b214726c"
      },
      "source": [
        "from IPython.core.display import HTML\n",
        "\n",
        "def path_to_image(path):\n",
        "  return '<img src = \"https://www.asos.com/prd/' + str(path) + '\" width = 60 \" >'\n",
        "  \n",
        "\n",
        "\n",
        "result_df = pd.DataFrame(result_tensor['output_0'].numpy(), columns=['ProductId']).head()\n",
        "print(result_df.to_html(escape=False, formatters=dict(ProductId = path_to_image)))\n",
        "HTML(result_df.to_html(escape=False, formatters=dict(ProductId = path_to_image)))"
      ],
      "execution_count": null,
      "outputs": [
        {
          "output_type": "stream",
          "text": [
            "<table border=\"1\" class=\"dataframe\">\n",
            "  <thead>\n",
            "    <tr style=\"text-align: right;\">\n",
            "      <th></th>\n",
            "      <th>ProductId</th>\n",
            "    </tr>\n",
            "  </thead>\n",
            "  <tbody>\n",
            "    <tr>\n",
            "      <th>0</th>\n",
            "      <td><img src = \"https://www.asos.com/prd/10308557\" width = 60 \" ></td>\n",
            "    </tr>\n",
            "    <tr>\n",
            "      <th>1</th>\n",
            "      <td><img src = \"https://www.asos.com/prd/10308818\" width = 60 \" ></td>\n",
            "    </tr>\n",
            "    <tr>\n",
            "      <th>2</th>\n",
            "      <td><img src = \"https://www.asos.com/prd/10309914\" width = 60 \" ></td>\n",
            "    </tr>\n",
            "    <tr>\n",
            "      <th>3</th>\n",
            "      <td><img src = \"https://www.asos.com/prd/11060961\" width = 60 \" ></td>\n",
            "    </tr>\n",
            "    <tr>\n",
            "      <th>4</th>\n",
            "      <td><img src = \"https://www.asos.com/prd/10402703\" width = 60 \" ></td>\n",
            "    </tr>\n",
            "  </tbody>\n",
            "</table>\n"
          ],
          "name": "stdout"
        },
        {
          "output_type": "execute_result",
          "data": {
            "text/html": [
              "<table border=\"1\" class=\"dataframe\">\n",
              "  <thead>\n",
              "    <tr style=\"text-align: right;\">\n",
              "      <th></th>\n",
              "      <th>ProductId</th>\n",
              "    </tr>\n",
              "  </thead>\n",
              "  <tbody>\n",
              "    <tr>\n",
              "      <th>0</th>\n",
              "      <td><img src = \"https://www.asos.com/prd/10308557\" width = 60 \" ></td>\n",
              "    </tr>\n",
              "    <tr>\n",
              "      <th>1</th>\n",
              "      <td><img src = \"https://www.asos.com/prd/10308818\" width = 60 \" ></td>\n",
              "    </tr>\n",
              "    <tr>\n",
              "      <th>2</th>\n",
              "      <td><img src = \"https://www.asos.com/prd/10309914\" width = 60 \" ></td>\n",
              "    </tr>\n",
              "    <tr>\n",
              "      <th>3</th>\n",
              "      <td><img src = \"https://www.asos.com/prd/11060961\" width = 60 \" ></td>\n",
              "    </tr>\n",
              "    <tr>\n",
              "      <th>4</th>\n",
              "      <td><img src = \"https://www.asos.com/prd/10402703\" width = 60 \" ></td>\n",
              "    </tr>\n",
              "  </tbody>\n",
              "</table>"
            ],
            "text/plain": [
              "<IPython.core.display.HTML object>"
            ]
          },
          "metadata": {},
          "execution_count": 94
        }
      ]
    },
    {
      "cell_type": "code",
      "metadata": {
        "id": "xki2dhfW--xM"
      },
      "source": [
        "µ#zip the model for simpler use\n",
        "\n",
        "\n",
        "from zipfile import ZipFile\n",
        "import os\n",
        "# create a ZipFile object\n",
        "with ZipFile('models.zip', 'w') as zipObj:\n",
        "   # Iterate over all the files in directory\n",
        "    for folderName, subfolders, filenames in os.walk(\"models\"):\n",
        "        for filename in filenames:\n",
        "           #create complete filepath of file in directory\n",
        "           filePath = os.path.join(folderName, filename)\n",
        "           # Add file to zip\n",
        "           zipObj.write(filePath)\n",
        "\n"
      ],
      "execution_count": null,
      "outputs": []
    },
    {
      "cell_type": "code",
      "metadata": {
        "id": "Nd7Qpt2r_3cf",
        "colab": {
          "base_uri": "https://localhost:8080/",
          "height": 132
        },
        "outputId": "de60cc26-77c2-4071-e9c3-6798c5558dda"
      },
      "source": [
        "curl --header \"Content-Type: application/json\" --request POST --data '{\"signature_name\":\"call_item_item\",\"inputs\": {\"product\": 10093853] } }' http://localhost:8501/v1/models/recommender:predict\n"
      ],
      "execution_count": null,
      "outputs": [
        {
          "output_type": "error",
          "ename": "SyntaxError",
          "evalue": "ignored",
          "traceback": [
            "\u001b[0;36m  File \u001b[0;32m\"<ipython-input-71-1bacf298d234>\"\u001b[0;36m, line \u001b[0;32m1\u001b[0m\n\u001b[0;31m    curl --header \"Content-Type: application/json\" --request POST --data '{\"signature_name\":\"call_item_item\",\"inputs\": {\"product\": 10093853] } }' http://localhost:8501/v1/models/recommender:predict\u001b[0m\n\u001b[0m                                                 ^\u001b[0m\n\u001b[0;31mSyntaxError\u001b[0m\u001b[0;31m:\u001b[0m invalid syntax\n"
          ]
        }
      ]
    }
  ]
}